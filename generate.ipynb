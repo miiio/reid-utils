{
    "cells": [
        {
            "cell_type": "code",
            "execution_count": 24,
            "source": [
                "import os\n",
                "import openpyxl\n",
                "import cv2\n",
                "import time\n",
                "import datetime\n",
                "from tqdm.notebook import tqdm"
            ],
            "outputs": [],
            "metadata": {}
        },
        {
            "cell_type": "markdown",
            "source": [
                "## 配置"
            ],
            "metadata": {}
        },
        {
            "cell_type": "code",
            "execution_count": 46,
            "source": [
                "#FairMOT算法输出的outpu.txt路径\n",
                "output_txt_path = 'output/20211012/D02_20211012075959/mot_results/D02_20211012075959.txt' \n",
                "#原视频路径\n",
                "source_video_path = '/home/swjtu/dataset/20211012/D02_20211012075959.mp4' \n",
                "#裁剪图片保存目录\n",
                "save_crops_path = './output/20211012/D02_20211012075959/crops'   \n",
                "#excel保存目录                                           \n",
                "save_excel_path = \"./output/20211012/D02_20211012075959/D02_20211012075959.xlsx\" \n",
                "     \n",
                "#原视频相机序号\n",
                "source_video_camera_id = 1                                               \n",
                "#原视频片段序号(按文件名升序从1开始排列)\n",
                "source_video_seq_id = 1                                                     \n",
                "#原视频真实起始日期时间\n",
                "source_video_start_time = \"20211012080011\"   \n",
                "                                      \n",
                "#原视频帧率\n",
                "source_video_frame_rate = 25.01     \n",
                "#MOT算法检测帧率                                               \n",
                "detection_frame_rate = 25.01        \n",
                "#crop同一个ID的2张图片最小帧间隔                                               \n",
                "crop_frame_interval = 10  \n",
                "  \n",
                "\n",
                "#忽略行人ID                                                       \n",
                "ignore_pids = []\n",
                "#阈值过滤\n",
                "min_threshold = -1                                                                    \n",
                "#最小行人框大小（在FairMOT中设置即可）\n",
                "min_box_area = 20000                             "
            ],
            "outputs": [],
            "metadata": {}
        },
        {
            "cell_type": "markdown",
            "source": [
                "## 加载MOT输出结果"
            ],
            "metadata": {}
        },
        {
            "cell_type": "code",
            "execution_count": 45,
            "source": [
                "output = []\n",
                "with open(output_txt_path,'r') as f:\n",
                "    for line in f.readlines():\n",
                "        frame, pid, x, y, w, h, threshold = line.split(',')[:7]\n",
                "        frame, pid, x, y, w, h, threshold = int(frame), int(pid), float(x), float(y), float(w), float(h), float(threshold)\n",
                "        if pid in ignore_pids or (min_box_area!=-1 and w*h<min_box_area) or (min_threshold!=-1 and threshold < min_threshold):\n",
                "            continue\n",
                "        output.append([frame, pid, x, y, w, h, threshold])\n",
                "print(len(output))"
            ],
            "outputs": [
                {
                    "output_type": "stream",
                    "name": "stdout",
                    "text": [
                        "4018\n"
                    ]
                }
            ],
            "metadata": {}
        },
        {
            "cell_type": "markdown",
            "source": [
                "## 根据Output打开原视频截取行人图片"
            ],
            "metadata": {}
        },
        {
            "cell_type": "code",
            "execution_count": 36,
            "source": [
                "cap = cv2.VideoCapture(source_video_path)\n",
                "cur_frame = 1\n",
                "frame_ratio = source_video_frame_rate / detection_frame_rate\n",
                "index = 0\n",
                "len_output = len(output)\n",
                "if not os.path.exists(save_crops_path):\n",
                "    os.makedirs(save_crops_path)\n",
                "pbar = tqdm(total=len_output)\n",
                "pbar.set_description('Processing:')\n",
                "last_crop_frame_dic = {}\n",
                "for i in output:\n",
                "    # 初始化为-crop_frame_interval\n",
                "    last_crop_frame_dic[i[1]] = -crop_frame_interval \n",
                "while index < len_output:\n",
                "    ret, img = cap.read()   \n",
                "    if ret == False or img is None: break\n",
                "    while index < len_output and cur_frame == output[index][0]:\n",
                "        frame, pid, x, y, w, h, threshold = output[index]\n",
                "        index += 1\n",
                "        pbar.update(1)\n",
                "        # if (cur_frame-1) % crop_frame_interval != 0:\n",
                "        # 当前帧的pid距离上一次crop小于crop_frame_interval帧则跳过\n",
                "        if cur_frame - last_crop_frame_dic[pid] < crop_frame_interval:\n",
                "            continue\n",
                "        last_crop_frame_dic[pid] = cur_frame\n",
                "        #通过帧号计算日期时间\n",
                "        time = datetime.datetime.strptime(source_video_start_time, \"%Y%m%d%H%M%S\") + datetime.timedelta(seconds=round(frame/detection_frame_rate))\n",
                "        fileName = \"%04d_c%02ds%02d_%04d_%s.jpg\" % (pid, source_video_camera_id, source_video_seq_id, round(frame * frame_ratio)\n",
                "                                                    , time.strftime(\"%Y%m%d%H%M%S\"))\n",
                "        if x*y*w*h > 0:\n",
                "            cv2.imwrite(os.path.join(save_crops_path, fileName), img[round(y):round(y+h), round(x):round(x+w)])\n",
                "        \n",
                "    cur_frame += 1"
            ],
            "outputs": [
                {
                    "output_type": "display_data",
                    "data": {
                        "text/plain": [
                            "  0%|          | 0/4018 [00:00<?, ?it/s]"
                        ],
                        "application/vnd.jupyter.widget-view+json": {
                            "version_major": 2,
                            "version_minor": 0,
                            "model_id": "da872aeebad543c2897c875b63272906"
                        }
                    },
                    "metadata": {}
                }
            ],
            "metadata": {}
        },
        {
            "cell_type": "markdown",
            "source": [
                "## 创建Excel并写入数据"
            ],
            "metadata": {}
        },
        {
            "cell_type": "code",
            "execution_count": 33,
            "source": [
                "wb = openpyxl.Workbook()\n",
                "ws = wb['Sheet']\n",
                "ws.append(['人员ID', '进入时间', '离开时间', '进入帧号', '离开帧号', '摄像头ID', '视频片段序号'])\n",
                "\n",
                "idMap = {}\n",
                "for frame,pid,x1,y1,w,h,threshold in output:\n",
                "    if pid not in idMap:\n",
                "        idMap[pid] = [frame, frame] # in_frame, out_frame\n",
                "    else:\n",
                "        idMap[pid][1] = frame\n",
                "for pid in idMap:\n",
                "    # 通过帧号计算视频内的时间轴信息\n",
                "    in_time, out_time = [ \"%02d:%02d:%02d\" % (time//3600, time%3600//60, time%60) for time in [ frame // detection_frame_rate for frame in idMap[pid]] ]\n",
                "    ws.append([pid, in_time, out_time, idMap[pid][0], idMap[pid][1], source_video_camera_id, source_video_seq_id])\n",
                "wb.save(save_excel_path)"
            ],
            "outputs": [],
            "metadata": {}
        }
    ],
    "metadata": {
        "orig_nbformat": 4,
        "language_info": {
            "name": "python",
            "version": "3.7.11",
            "mimetype": "text/x-python",
            "codemirror_mode": {
                "name": "ipython",
                "version": 3
            },
            "pygments_lexer": "ipython3",
            "nbconvert_exporter": "python",
            "file_extension": ".py"
        },
        "kernelspec": {
            "name": "python3",
            "display_name": "Python 3.7.11 64-bit ('open-mmlab': conda)"
        },
        "interpreter": {
            "hash": "0ee1d9c47a49b2aec80039d55cf8a74834da4684630bf16416177f3124ef501c"
        }
    },
    "nbformat": 4,
    "nbformat_minor": 2
}